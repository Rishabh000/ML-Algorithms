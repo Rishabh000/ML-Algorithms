{
 "cells": [
  {
   "cell_type": "code",
   "execution_count": 6,
   "id": "3dbd3bfa",
   "metadata": {},
   "outputs": [],
   "source": [
    "import cv2\n",
    "import numpy as np\n",
    "import os\n",
    "\n",
    "data_path = 'D:/F/Machine Learning/MSML602/Face Data for Homework/ATT'\n",
    "\n",
    "# lists to store images and labels\n",
    "images = []\n",
    "labels = []\n",
    "\n",
    "for subject_id in range(1, 41):\n",
    "    for img_id in range(1, 11):\n",
    "        file_name = f\"{subject_id}_{img_id}.png\"\n",
    "        img_path = os.path.join(data_path, file_name)\n",
    "        \n",
    "        # Check if the file exists\n",
    "        if os.path.exists(img_path):\n",
    "            \n",
    "            # Read the image in grayscale\n",
    "            img = cv2.imread(img_path, cv2.IMREAD_GRAYSCALE)\n",
    "            if img is not None:\n",
    "                    images.append(img.flatten())  # Flatten to 1D vector\n",
    "                    labels.append(subject_id - 1) # Label as (subject_id - 1) to start from 0\n",
    "            else:\n",
    "                print(f\"Warning: Couldn't read {img_path}\")\n",
    "        else:\n",
    "            print(f\"Warning: {img_path} does not exist\")\n",
    "\n",
    "# Converting lists to numpy arrays\n",
    "images = np.array(images)\n",
    "labels = np.array(labels)\n"
   ]
  },
  {
   "cell_type": "code",
   "execution_count": 7,
   "id": "48c4c83a",
   "metadata": {},
   "outputs": [
    {
     "name": "stdout",
     "output_type": "stream",
     "text": [
      "400\n",
      "400\n"
     ]
    }
   ],
   "source": [
    "print(len(images))\n",
    "print(len(labels))"
   ]
  },
  {
   "cell_type": "code",
   "execution_count": 8,
   "id": "949d3212",
   "metadata": {},
   "outputs": [],
   "source": [
    "def euclidean_distance(vec1, vec2):\n",
    "    return np.sqrt(np.sum((vec1 - vec2) ** 2))\n",
    "\n",
    "def knn_1nn(test_image, training_images, training_labels):\n",
    "    # Step 1: Calculate distances and store them with labels\n",
    "    S = []\n",
    "    for n, train_img in enumerate(training_images):\n",
    "        distance = euclidean_distance(test_image, train_img)\n",
    "        S.append((distance, training_labels[n]))\n",
    "\n",
    "    # Step 2: Sort by distance (ascending)\n",
    "    S.sort(key=lambda x: x[0])\n",
    "\n",
    "    # Step 3: Get the label of the closest neighbor\n",
    "    _, nearest_label = S[0]\n",
    "\n",
    "    return nearest_label\n"
   ]
  },
  {
   "cell_type": "code",
   "execution_count": 9,
   "id": "730ec65f",
   "metadata": {},
   "outputs": [],
   "source": [
    "def cross_validate_5_fold(train_images, train_labels):\n",
    "    fold_size = len(train_images) // 5\n",
    "    indices = np.arange(len(train_images))\n",
    "    np.random.shuffle(indices)\n",
    "    accuracies = []\n",
    "    \n",
    "    for fold in range(5):\n",
    "        # Define training and testing indices for the current fold\n",
    "        test_indices = indices[fold * fold_size : (fold + 1) * fold_size]\n",
    "        train_indices = np.array([i for i in indices if i not in test_indices])\n",
    "        \n",
    "        # Split data into training and testing sets\n",
    "        inner_train_images, inner_test_images = train_images[train_indices], train_images[test_indices]\n",
    "        inner_train_labels, inner_test_labels = train_labels[train_indices], train_labels[test_indices]\n",
    "        \n",
    "        correct_predictions = 0\n",
    "        \n",
    "        # Test each image in the current testing fold\n",
    "        for i, test_img in enumerate(inner_test_images):\n",
    "            predicted_label = knn_1nn(test_img, inner_train_images, inner_train_labels)\n",
    "            actual_label = inner_test_labels[i]\n",
    "            \n",
    "            if predicted_label == actual_label:\n",
    "                correct_predictions += 1\n",
    "        \n",
    "        # Calculate accuracy for the current fold\n",
    "        fold_accuracy = correct_predictions / len(inner_test_images)\n",
    "        accuracies.append(fold_accuracy)\n",
    "        print(f\"Fold {fold + 1} Accuracy: {fold_accuracy * 100:.2f}%\")\n",
    "    \n",
    "    # Calculate and return the average accuracy across all folds\n",
    "    avg_accuracy = sum(accuracies) / len(accuracies)\n",
    "    return avg_accuracy"
   ]
  },
  {
   "cell_type": "code",
   "execution_count": 10,
   "id": "8e9eac46",
   "metadata": {},
   "outputs": [
    {
     "name": "stdout",
     "output_type": "stream",
     "text": [
      "Fold 1 Accuracy: 96.88%\n",
      "Fold 2 Accuracy: 98.44%\n",
      "Fold 3 Accuracy: 98.44%\n",
      "Fold 4 Accuracy: 93.75%\n",
      "Fold 5 Accuracy: 96.88%\n",
      "Average Prediction Accuracy: 96.88%\n"
     ]
    }
   ],
   "source": [
    "average_accuracy = cross_validate_5_fold(train_images, train_labels)\n",
    "print(f'Average Prediction Accuracy: {average_accuracy * 100:.2f}%')\n"
   ]
  },
  {
   "cell_type": "code",
   "execution_count": null,
   "id": "85c342b0",
   "metadata": {},
   "outputs": [],
   "source": []
  }
 ],
 "metadata": {
  "kernelspec": {
   "display_name": "Python 3 (ipykernel)",
   "language": "python",
   "name": "python3"
  },
  "language_info": {
   "codemirror_mode": {
    "name": "ipython",
    "version": 3
   },
   "file_extension": ".py",
   "mimetype": "text/x-python",
   "name": "python",
   "nbconvert_exporter": "python",
   "pygments_lexer": "ipython3",
   "version": "3.10.9"
  }
 },
 "nbformat": 4,
 "nbformat_minor": 5
}
