{
  "nbformat": 4,
  "nbformat_minor": 0,
  "metadata": {
    "colab": {
      "provenance": [],
      "gpuType": "T4"
    },
    "kernelspec": {
      "name": "python3",
      "display_name": "Python 3"
    },
    "language_info": {
      "name": "python"
    },
    "accelerator": "GPU"
  },
  "cells": [
    {
      "cell_type": "code",
      "execution_count": null,
      "metadata": {
        "colab": {
          "base_uri": "https://localhost:8080/"
        },
        "id": "pFT36bIWVYT3",
        "outputId": "84d6f871-f273-4571-b3fa-bf3769189510"
      },
      "outputs": [
        {
          "output_type": "stream",
          "name": "stdout",
          "text": [
            "Requirement already satisfied: kaggle in /usr/local/lib/python3.11/dist-packages (1.6.17)\n",
            "Requirement already satisfied: six>=1.10 in /usr/local/lib/python3.11/dist-packages (from kaggle) (1.17.0)\n",
            "Requirement already satisfied: certifi>=2023.7.22 in /usr/local/lib/python3.11/dist-packages (from kaggle) (2024.12.14)\n",
            "Requirement already satisfied: python-dateutil in /usr/local/lib/python3.11/dist-packages (from kaggle) (2.8.2)\n",
            "Requirement already satisfied: requests in /usr/local/lib/python3.11/dist-packages (from kaggle) (2.32.3)\n",
            "Requirement already satisfied: tqdm in /usr/local/lib/python3.11/dist-packages (from kaggle) (4.67.1)\n",
            "Requirement already satisfied: python-slugify in /usr/local/lib/python3.11/dist-packages (from kaggle) (8.0.4)\n",
            "Requirement already satisfied: urllib3 in /usr/local/lib/python3.11/dist-packages (from kaggle) (2.3.0)\n",
            "Requirement already satisfied: bleach in /usr/local/lib/python3.11/dist-packages (from kaggle) (6.2.0)\n",
            "Requirement already satisfied: webencodings in /usr/local/lib/python3.11/dist-packages (from bleach->kaggle) (0.5.1)\n",
            "Requirement already satisfied: text-unidecode>=1.3 in /usr/local/lib/python3.11/dist-packages (from python-slugify->kaggle) (1.3)\n",
            "Requirement already satisfied: charset-normalizer<4,>=2 in /usr/local/lib/python3.11/dist-packages (from requests->kaggle) (3.4.1)\n",
            "Requirement already satisfied: idna<4,>=2.5 in /usr/local/lib/python3.11/dist-packages (from requests->kaggle) (3.10)\n"
          ]
        }
      ],
      "source": [
        "# Install the kaggle API\n",
        "! pip install kaggle"
      ]
    },
    {
      "cell_type": "code",
      "source": [
        "from google.colab import files\n",
        "\n",
        "files.upload()"
      ],
      "metadata": {
        "colab": {
          "base_uri": "https://localhost:8080/",
          "height": 90
        },
        "id": "O8ANJ5aGWCTF",
        "outputId": "1bd203b7-60e6-483a-99c2-f0489c88b623"
      },
      "execution_count": null,
      "outputs": [
        {
          "output_type": "display_data",
          "data": {
            "text/plain": [
              "<IPython.core.display.HTML object>"
            ],
            "text/html": [
              "\n",
              "     <input type=\"file\" id=\"files-39cd1ef1-eed4-430d-b8ae-e96dd0c2b58c\" name=\"files[]\" multiple disabled\n",
              "        style=\"border:none\" />\n",
              "     <output id=\"result-39cd1ef1-eed4-430d-b8ae-e96dd0c2b58c\">\n",
              "      Upload widget is only available when the cell has been executed in the\n",
              "      current browser session. Please rerun this cell to enable.\n",
              "      </output>\n",
              "      <script>// Copyright 2017 Google LLC\n",
              "//\n",
              "// Licensed under the Apache License, Version 2.0 (the \"License\");\n",
              "// you may not use this file except in compliance with the License.\n",
              "// You may obtain a copy of the License at\n",
              "//\n",
              "//      http://www.apache.org/licenses/LICENSE-2.0\n",
              "//\n",
              "// Unless required by applicable law or agreed to in writing, software\n",
              "// distributed under the License is distributed on an \"AS IS\" BASIS,\n",
              "// WITHOUT WARRANTIES OR CONDITIONS OF ANY KIND, either express or implied.\n",
              "// See the License for the specific language governing permissions and\n",
              "// limitations under the License.\n",
              "\n",
              "/**\n",
              " * @fileoverview Helpers for google.colab Python module.\n",
              " */\n",
              "(function(scope) {\n",
              "function span(text, styleAttributes = {}) {\n",
              "  const element = document.createElement('span');\n",
              "  element.textContent = text;\n",
              "  for (const key of Object.keys(styleAttributes)) {\n",
              "    element.style[key] = styleAttributes[key];\n",
              "  }\n",
              "  return element;\n",
              "}\n",
              "\n",
              "// Max number of bytes which will be uploaded at a time.\n",
              "const MAX_PAYLOAD_SIZE = 100 * 1024;\n",
              "\n",
              "function _uploadFiles(inputId, outputId) {\n",
              "  const steps = uploadFilesStep(inputId, outputId);\n",
              "  const outputElement = document.getElementById(outputId);\n",
              "  // Cache steps on the outputElement to make it available for the next call\n",
              "  // to uploadFilesContinue from Python.\n",
              "  outputElement.steps = steps;\n",
              "\n",
              "  return _uploadFilesContinue(outputId);\n",
              "}\n",
              "\n",
              "// This is roughly an async generator (not supported in the browser yet),\n",
              "// where there are multiple asynchronous steps and the Python side is going\n",
              "// to poll for completion of each step.\n",
              "// This uses a Promise to block the python side on completion of each step,\n",
              "// then passes the result of the previous step as the input to the next step.\n",
              "function _uploadFilesContinue(outputId) {\n",
              "  const outputElement = document.getElementById(outputId);\n",
              "  const steps = outputElement.steps;\n",
              "\n",
              "  const next = steps.next(outputElement.lastPromiseValue);\n",
              "  return Promise.resolve(next.value.promise).then((value) => {\n",
              "    // Cache the last promise value to make it available to the next\n",
              "    // step of the generator.\n",
              "    outputElement.lastPromiseValue = value;\n",
              "    return next.value.response;\n",
              "  });\n",
              "}\n",
              "\n",
              "/**\n",
              " * Generator function which is called between each async step of the upload\n",
              " * process.\n",
              " * @param {string} inputId Element ID of the input file picker element.\n",
              " * @param {string} outputId Element ID of the output display.\n",
              " * @return {!Iterable<!Object>} Iterable of next steps.\n",
              " */\n",
              "function* uploadFilesStep(inputId, outputId) {\n",
              "  const inputElement = document.getElementById(inputId);\n",
              "  inputElement.disabled = false;\n",
              "\n",
              "  const outputElement = document.getElementById(outputId);\n",
              "  outputElement.innerHTML = '';\n",
              "\n",
              "  const pickedPromise = new Promise((resolve) => {\n",
              "    inputElement.addEventListener('change', (e) => {\n",
              "      resolve(e.target.files);\n",
              "    });\n",
              "  });\n",
              "\n",
              "  const cancel = document.createElement('button');\n",
              "  inputElement.parentElement.appendChild(cancel);\n",
              "  cancel.textContent = 'Cancel upload';\n",
              "  const cancelPromise = new Promise((resolve) => {\n",
              "    cancel.onclick = () => {\n",
              "      resolve(null);\n",
              "    };\n",
              "  });\n",
              "\n",
              "  // Wait for the user to pick the files.\n",
              "  const files = yield {\n",
              "    promise: Promise.race([pickedPromise, cancelPromise]),\n",
              "    response: {\n",
              "      action: 'starting',\n",
              "    }\n",
              "  };\n",
              "\n",
              "  cancel.remove();\n",
              "\n",
              "  // Disable the input element since further picks are not allowed.\n",
              "  inputElement.disabled = true;\n",
              "\n",
              "  if (!files) {\n",
              "    return {\n",
              "      response: {\n",
              "        action: 'complete',\n",
              "      }\n",
              "    };\n",
              "  }\n",
              "\n",
              "  for (const file of files) {\n",
              "    const li = document.createElement('li');\n",
              "    li.append(span(file.name, {fontWeight: 'bold'}));\n",
              "    li.append(span(\n",
              "        `(${file.type || 'n/a'}) - ${file.size} bytes, ` +\n",
              "        `last modified: ${\n",
              "            file.lastModifiedDate ? file.lastModifiedDate.toLocaleDateString() :\n",
              "                                    'n/a'} - `));\n",
              "    const percent = span('0% done');\n",
              "    li.appendChild(percent);\n",
              "\n",
              "    outputElement.appendChild(li);\n",
              "\n",
              "    const fileDataPromise = new Promise((resolve) => {\n",
              "      const reader = new FileReader();\n",
              "      reader.onload = (e) => {\n",
              "        resolve(e.target.result);\n",
              "      };\n",
              "      reader.readAsArrayBuffer(file);\n",
              "    });\n",
              "    // Wait for the data to be ready.\n",
              "    let fileData = yield {\n",
              "      promise: fileDataPromise,\n",
              "      response: {\n",
              "        action: 'continue',\n",
              "      }\n",
              "    };\n",
              "\n",
              "    // Use a chunked sending to avoid message size limits. See b/62115660.\n",
              "    let position = 0;\n",
              "    do {\n",
              "      const length = Math.min(fileData.byteLength - position, MAX_PAYLOAD_SIZE);\n",
              "      const chunk = new Uint8Array(fileData, position, length);\n",
              "      position += length;\n",
              "\n",
              "      const base64 = btoa(String.fromCharCode.apply(null, chunk));\n",
              "      yield {\n",
              "        response: {\n",
              "          action: 'append',\n",
              "          file: file.name,\n",
              "          data: base64,\n",
              "        },\n",
              "      };\n",
              "\n",
              "      let percentDone = fileData.byteLength === 0 ?\n",
              "          100 :\n",
              "          Math.round((position / fileData.byteLength) * 100);\n",
              "      percent.textContent = `${percentDone}% done`;\n",
              "\n",
              "    } while (position < fileData.byteLength);\n",
              "  }\n",
              "\n",
              "  // All done.\n",
              "  yield {\n",
              "    response: {\n",
              "      action: 'complete',\n",
              "    }\n",
              "  };\n",
              "}\n",
              "\n",
              "scope.google = scope.google || {};\n",
              "scope.google.colab = scope.google.colab || {};\n",
              "scope.google.colab._files = {\n",
              "  _uploadFiles,\n",
              "  _uploadFilesContinue,\n",
              "};\n",
              "})(self);\n",
              "</script> "
            ]
          },
          "metadata": {}
        },
        {
          "output_type": "stream",
          "name": "stdout",
          "text": [
            "Saving kaggle.json to kaggle.json\n"
          ]
        },
        {
          "output_type": "execute_result",
          "data": {
            "text/plain": [
              "{'kaggle.json': b'{\"username\":\"rishabhranka09\",\"key\":\"fc19d1c0e98c6cefc99fe3e6be9b0a99\"}'}"
            ]
          },
          "metadata": {},
          "execution_count": 2
        }
      ]
    },
    {
      "cell_type": "code",
      "source": [
        "# 5. Make a directory named kaggle and copy kaggle.json file there\n",
        "! mkdir ~/.kaggle\n",
        "! cp kaggle.json ~/.kaggle/\n",
        "\n",
        "# Change the permission of the file\n",
        "! chmod 600 ~/.kaggle/kaggle.json"
      ],
      "metadata": {
        "id": "ho6_AJHwWC77"
      },
      "execution_count": null,
      "outputs": []
    },
    {
      "cell_type": "code",
      "source": [
        "# 6. Download the Netflix data\n",
        "!kaggle datasets download -d netflix-inc/netflix-prize-data"
      ],
      "metadata": {
        "colab": {
          "base_uri": "https://localhost:8080/"
        },
        "id": "g32kcDPgWQY-",
        "outputId": "6bf35a2e-0643-498f-be0a-2946a6bdd433"
      },
      "execution_count": null,
      "outputs": [
        {
          "output_type": "stream",
          "name": "stdout",
          "text": [
            "Dataset URL: https://www.kaggle.com/datasets/netflix-inc/netflix-prize-data\n",
            "License(s): other\n",
            "Downloading netflix-prize-data.zip to /content\n",
            " 98% 670M/683M [00:06<00:00, 87.0MB/s]\n",
            "100% 683M/683M [00:06<00:00, 115MB/s] \n"
          ]
        }
      ]
    },
    {
      "cell_type": "code",
      "source": [
        "# 7. Unzip the downloaded file\n",
        "!unzip netflix-prize-data.zip"
      ],
      "metadata": {
        "colab": {
          "base_uri": "https://localhost:8080/"
        },
        "id": "h0x3DtOeWVES",
        "outputId": "96a10224-5321-4552-bfa0-ebf2e0d64535"
      },
      "execution_count": null,
      "outputs": [
        {
          "output_type": "stream",
          "name": "stdout",
          "text": [
            "Archive:  netflix-prize-data.zip\n",
            "  inflating: README                  \n",
            "  inflating: combined_data_1.txt     \n",
            "  inflating: combined_data_2.txt     \n",
            "  inflating: combined_data_3.txt     \n",
            "  inflating: combined_data_4.txt     \n",
            "  inflating: movie_titles.csv        \n",
            "  inflating: probe.txt               \n",
            "  inflating: qualifying.txt          \n"
          ]
        }
      ]
    },
    {
      "cell_type": "markdown",
      "source": [
        "Load the Data\n",
        "The code below load the data from combined_data_1.txt as a data frame. Expand the code so to load from all data files."
      ],
      "metadata": {
        "id": "STqHnBakWd4k"
      }
    },
    {
      "cell_type": "code",
      "source": [
        "!pip install pyspark"
      ],
      "metadata": {
        "colab": {
          "base_uri": "https://localhost:8080/"
        },
        "id": "iF46KoVRWVK3",
        "outputId": "6f80ef31-d651-4bd4-f2e9-2b6333037051"
      },
      "execution_count": null,
      "outputs": [
        {
          "output_type": "stream",
          "name": "stdout",
          "text": [
            "Requirement already satisfied: pyspark in /usr/local/lib/python3.11/dist-packages (3.5.4)\n",
            "Requirement already satisfied: py4j==0.10.9.7 in /usr/local/lib/python3.11/dist-packages (from pyspark) (0.10.9.7)\n"
          ]
        }
      ]
    },
    {
      "cell_type": "code",
      "source": [
        "\n",
        "import numpy as np\n",
        "import matplotlib.pyplot as plt\n",
        "import os"
      ],
      "metadata": {
        "id": "lexpVBU0WmMr"
      },
      "execution_count": null,
      "outputs": []
    },
    {
      "cell_type": "code",
      "source": [
        "if not os.path.isfile('data.csv'):\n",
        "    data = open('data.csv', mode='w')\n",
        "\n",
        "file = \"combined_data_1.txt\"\n",
        "with open(file) as f:\n",
        "    for line in f:\n",
        "        line = line.strip()\n",
        "        if line.endswith(':'):\n",
        "            movie_id = line.replace(':', '')\n",
        "        else:\n",
        "            data.write(movie_id + ',' + line)\n",
        "            data.write('\\n')"
      ],
      "metadata": {
        "id": "SFYgjNv-WmQY"
      },
      "execution_count": null,
      "outputs": []
    },
    {
      "cell_type": "code",
      "source": [
        "from pyspark.sql import SparkSession\n",
        "spark = SparkSession.builder.appName('Collaborative Filtering').getOrCreate()"
      ],
      "metadata": {
        "id": "GuDs3u1gWmUa"
      },
      "execution_count": null,
      "outputs": []
    },
    {
      "cell_type": "code",
      "source": [
        "from pyspark.sql.types import StructType, StructField, IntegerType, DateType\n",
        "schema = StructType([\n",
        "    StructField(\"movie_id\", IntegerType(), True),\n",
        "    StructField(\"user_id\", IntegerType(), True),\n",
        "    StructField(\"ratings\", IntegerType(), True),\n",
        "    StructField(\"data\", DateType(), True)\n",
        "])\n",
        "data_customer = spark.read.csv('data.csv', header=False, schema=schema)\n",
        "data_customer.printSchema()"
      ],
      "metadata": {
        "colab": {
          "base_uri": "https://localhost:8080/"
        },
        "id": "sHquhkH3Wx4r",
        "outputId": "5d1cccce-703b-4fbe-8373-12189df65dd2"
      },
      "execution_count": null,
      "outputs": [
        {
          "output_type": "stream",
          "name": "stdout",
          "text": [
            "root\n",
            " |-- movie_id: integer (nullable = true)\n",
            " |-- user_id: integer (nullable = true)\n",
            " |-- ratings: integer (nullable = true)\n",
            " |-- data: date (nullable = true)\n",
            "\n"
          ]
        }
      ]
    },
    {
      "cell_type": "markdown",
      "source": [
        "2. Train-Test Split\n",
        "Split the dataset into 80% training data and 20% test data."
      ],
      "metadata": {
        "id": "HlU9izY0W5Vt"
      }
    },
    {
      "cell_type": "code",
      "source": [
        "from pyspark.ml.tuning import TrainValidationSplit\n",
        "\n",
        "# Split data into train and test set\n",
        "train, test = data_customer.randomSplit([0.8, 0.2], seed=42)"
      ],
      "metadata": {
        "id": "o4iYqCM1WyCv"
      },
      "execution_count": null,
      "outputs": []
    },
    {
      "cell_type": "code",
      "source": [
        "from pyspark.ml.evaluation import RegressionEvaluator\n",
        "from pyspark.ml.recommendation import ALS\n",
        "\n",
        "# Build the recommendation model using ALS on the training data\n",
        "# Note we set cold start strategy to 'drop' to ensure we don't get NaN evaluation metrics\n",
        "als = ALS(maxIter=5, regParam=0.01, userCol=\"user_id\", itemCol=\"movie_id\", ratingCol=\"ratings\",\n",
        "          coldStartStrategy=\"drop\")\n",
        "model = als.fit(train)\n",
        "\n",
        "# Evaluate the model by computing the RMSE on the test data\n",
        "predictions = model.transform(test)\n",
        "evaluator = RegressionEvaluator(metricName=\"rmse\", labelCol=\"ratings\",\n",
        "                                predictionCol=\"prediction\")\n",
        "rmse = evaluator.evaluate(predictions)\n",
        "print(\"Root-mean-square error = \" + str(rmse))\n",
        "\n",
        "# Generate top 10 movie recommendations for each user\n",
        "userRecs = model.recommendForAllUsers(10)\n",
        "# Generate top 10 user recommendations for each movie\n",
        "movieRecs = model.recommendForAllItems(10)"
      ],
      "metadata": {
        "colab": {
          "base_uri": "https://localhost:8080/"
        },
        "id": "SVQuI2ITWyLp",
        "outputId": "7be3d9ac-0dc5-4bbf-f47c-5c861ecf5e02"
      },
      "execution_count": null,
      "outputs": [
        {
          "output_type": "stream",
          "name": "stdout",
          "text": [
            "Root-mean-square error = 0.9562315522187478\n"
          ]
        }
      ]
    },
    {
      "cell_type": "code",
      "source": [
        "userRecs.head(5)"
      ],
      "metadata": {
        "colab": {
          "base_uri": "https://localhost:8080/"
        },
        "id": "jc_R24XZXAC3",
        "outputId": "df5ff5b5-34ee-46fb-abbc-2f868f419856"
      },
      "execution_count": null,
      "outputs": [
        {
          "output_type": "execute_result",
          "data": {
            "text/plain": [
              "[Row(user_id=126, recommendations=[Row(movie_id=382, rating=7.5892791748046875), Row(movie_id=1517, rating=7.558063983917236), Row(movie_id=4294, rating=7.448196887969971), Row(movie_id=3328, rating=6.913433074951172), Row(movie_id=2894, rating=6.816694259643555), Row(movie_id=4186, rating=6.7647223472595215), Row(movie_id=970, rating=6.757270812988281), Row(movie_id=51, rating=6.726584434509277), Row(movie_id=3502, rating=6.467933654785156), Row(movie_id=2215, rating=6.419711112976074)]),\n",
              " Row(user_id=133, recommendations=[Row(movie_id=4076, rating=5.2866621017456055), Row(movie_id=4300, rating=4.22236442565918), Row(movie_id=396, rating=4.082207679748535), Row(movie_id=3504, rating=3.9577057361602783), Row(movie_id=4471, rating=3.80117130279541), Row(movie_id=2311, rating=3.7570817470550537), Row(movie_id=1729, rating=3.681417465209961), Row(movie_id=876, rating=3.666825294494629), Row(movie_id=2593, rating=3.6604843139648438), Row(movie_id=4158, rating=3.603008508682251)]),\n",
              " Row(user_id=183, recommendations=[Row(movie_id=3516, rating=4.804218769073486), Row(movie_id=2927, rating=4.7289137840271), Row(movie_id=805, rating=4.7155070304870605), Row(movie_id=559, rating=4.691295146942139), Row(movie_id=2275, rating=4.66958475112915), Row(movie_id=441, rating=4.668931007385254), Row(movie_id=1326, rating=4.663138389587402), Row(movie_id=498, rating=4.636858940124512), Row(movie_id=4427, rating=4.622041702270508), Row(movie_id=2618, rating=4.621102333068848)]),\n",
              " Row(user_id=192, recommendations=[Row(movie_id=3425, rating=5.42726993560791), Row(movie_id=3524, rating=5.1181464195251465), Row(movie_id=98, rating=5.111092567443848), Row(movie_id=3036, rating=5.10610294342041), Row(movie_id=4403, rating=5.068648815155029), Row(movie_id=2479, rating=5.010343551635742), Row(movie_id=3438, rating=4.983268737792969), Row(movie_id=3872, rating=4.973126411437988), Row(movie_id=3346, rating=4.948827743530273), Row(movie_id=1921, rating=4.916345596313477)]),\n",
              " Row(user_id=296, recommendations=[Row(movie_id=2792, rating=5.490942001342773), Row(movie_id=2887, rating=5.42626428604126), Row(movie_id=703, rating=5.412344455718994), Row(movie_id=4338, rating=5.0903544425964355), Row(movie_id=778, rating=5.018370628356934), Row(movie_id=4132, rating=5.013057708740234), Row(movie_id=412, rating=4.9947428703308105), Row(movie_id=915, rating=4.979055404663086), Row(movie_id=3023, rating=4.958710193634033), Row(movie_id=2228, rating=4.942561626434326)])]"
            ]
          },
          "metadata": {},
          "execution_count": 13
        }
      ]
    },
    {
      "cell_type": "code",
      "source": [
        "movieRecs.head(5)"
      ],
      "metadata": {
        "colab": {
          "base_uri": "https://localhost:8080/"
        },
        "id": "BZ3nvgfXXAIt",
        "outputId": "23c943f1-6fb5-4f64-b08e-1864a58aa272"
      },
      "execution_count": null,
      "outputs": [
        {
          "output_type": "execute_result",
          "data": {
            "text/plain": [
              "[Row(movie_id=1, recommendations=[Row(user_id=1798925, rating=8.32288646697998), Row(user_id=2532574, rating=8.256898880004883), Row(user_id=588589, rating=7.991403102874756), Row(user_id=2396335, rating=7.856922149658203), Row(user_id=1431451, rating=7.712429046630859), Row(user_id=1616550, rating=7.537178993225098), Row(user_id=2486222, rating=7.509316921234131), Row(user_id=1917856, rating=7.486286640167236), Row(user_id=2595431, rating=7.455434799194336), Row(user_id=1715195, rating=7.4374260902404785)]),\n",
              " Row(movie_id=3, recommendations=[Row(user_id=1258170, rating=6.866022109985352), Row(user_id=263902, rating=6.754932403564453), Row(user_id=2634372, rating=6.6894707679748535), Row(user_id=1510892, rating=6.677548885345459), Row(user_id=1106934, rating=6.623396396636963), Row(user_id=706841, rating=6.482214450836182), Row(user_id=1088015, rating=6.444871425628662), Row(user_id=383247, rating=6.429018974304199), Row(user_id=234746, rating=6.416256427764893), Row(user_id=1367254, rating=6.402185440063477)]),\n",
              " Row(movie_id=5, recommendations=[Row(user_id=1249708, rating=11.42691707611084), Row(user_id=625365, rating=11.074029922485352), Row(user_id=1893576, rating=11.018779754638672), Row(user_id=2154584, rating=10.839672088623047), Row(user_id=1077204, rating=10.707599639892578), Row(user_id=2635941, rating=10.521300315856934), Row(user_id=1400530, rating=10.455244064331055), Row(user_id=5834, rating=10.128575325012207), Row(user_id=2211556, rating=10.081894874572754), Row(user_id=1506885, rating=10.069615364074707)]),\n",
              " Row(movie_id=6, recommendations=[Row(user_id=2243199, rating=10.797521591186523), Row(user_id=509100, rating=9.268141746520996), Row(user_id=1214063, rating=9.18613338470459), Row(user_id=2637892, rating=9.10759162902832), Row(user_id=514664, rating=9.075150489807129), Row(user_id=1046500, rating=9.074588775634766), Row(user_id=852703, rating=8.945365905761719), Row(user_id=2155003, rating=8.806758880615234), Row(user_id=2151215, rating=8.699278831481934), Row(user_id=783915, rating=8.680099487304688)]),\n",
              " Row(movie_id=9, recommendations=[Row(user_id=1734359, rating=10.534555435180664), Row(user_id=1066943, rating=10.419709205627441), Row(user_id=1797378, rating=10.225522994995117), Row(user_id=2134752, rating=10.201586723327637), Row(user_id=1542073, rating=10.109137535095215), Row(user_id=1305156, rating=10.107133865356445), Row(user_id=2341588, rating=10.100339889526367), Row(user_id=1880453, rating=10.098926544189453), Row(user_id=2037226, rating=9.927308082580566), Row(user_id=2394203, rating=9.85578727722168)])]"
            ]
          },
          "metadata": {},
          "execution_count": 14
        }
      ]
    },
    {
      "cell_type": "code",
      "source": [],
      "metadata": {
        "id": "WFaaIOTyaKXV"
      },
      "execution_count": null,
      "outputs": []
    }
  ]
}