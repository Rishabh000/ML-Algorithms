{
  "nbformat": 4,
  "nbformat_minor": 0,
  "metadata": {
    "colab": {
      "provenance": []
    },
    "kernelspec": {
      "name": "python3",
      "display_name": "Python 3"
    },
    "language_info": {
      "name": "python"
    }
  },
  "cells": [
    {
      "cell_type": "code",
      "execution_count": 9,
      "metadata": {
        "id": "yDwdC4YhqBfl"
      },
      "outputs": [],
      "source": [
        "from sklearn.datasets import fetch_california_housing\n",
        "from sklearn.model_selection import train_test_split\n",
        "\n",
        "X, y = fetch_california_housing(return_X_y=True)\n",
        "X = X[:2000,:]\n",
        "y = y[:2000]\n",
        "X_train, X_test, y_train, y_test = train_test_split(X, y, test_size=0.4, random_state=42)"
      ]
    },
    {
      "cell_type": "code",
      "source": [
        "X.shape"
      ],
      "metadata": {
        "colab": {
          "base_uri": "https://localhost:8080/"
        },
        "id": "SuooSNTjqW_A",
        "outputId": "f9185b21-3411-4904-b916-202da4d4ec00"
      },
      "execution_count": 10,
      "outputs": [
        {
          "output_type": "execute_result",
          "data": {
            "text/plain": [
              "(2000, 8)"
            ]
          },
          "metadata": {},
          "execution_count": 10
        }
      ]
    },
    {
      "cell_type": "code",
      "source": [
        "fetch_california_housing()"
      ],
      "metadata": {
        "colab": {
          "base_uri": "https://localhost:8080/"
        },
        "id": "O7hBzlxgqaJx",
        "outputId": "41cc7900-1300-4242-9e8e-1ecb4617f25e"
      },
      "execution_count": 12,
      "outputs": [
        {
          "output_type": "execute_result",
          "data": {
            "text/plain": [
              "{'data': array([[   8.3252    ,   41.        ,    6.98412698, ...,    2.55555556,\n",
              "           37.88      , -122.23      ],\n",
              "        [   8.3014    ,   21.        ,    6.23813708, ...,    2.10984183,\n",
              "           37.86      , -122.22      ],\n",
              "        [   7.2574    ,   52.        ,    8.28813559, ...,    2.80225989,\n",
              "           37.85      , -122.24      ],\n",
              "        ...,\n",
              "        [   1.7       ,   17.        ,    5.20554273, ...,    2.3256351 ,\n",
              "           39.43      , -121.22      ],\n",
              "        [   1.8672    ,   18.        ,    5.32951289, ...,    2.12320917,\n",
              "           39.43      , -121.32      ],\n",
              "        [   2.3886    ,   16.        ,    5.25471698, ...,    2.61698113,\n",
              "           39.37      , -121.24      ]]),\n",
              " 'target': array([4.526, 3.585, 3.521, ..., 0.923, 0.847, 0.894]),\n",
              " 'frame': None,\n",
              " 'target_names': ['MedHouseVal'],\n",
              " 'feature_names': ['MedInc',\n",
              "  'HouseAge',\n",
              "  'AveRooms',\n",
              "  'AveBedrms',\n",
              "  'Population',\n",
              "  'AveOccup',\n",
              "  'Latitude',\n",
              "  'Longitude'],\n",
              " 'DESCR': '.. _california_housing_dataset:\\n\\nCalifornia Housing dataset\\n--------------------------\\n\\n**Data Set Characteristics:**\\n\\n:Number of Instances: 20640\\n\\n:Number of Attributes: 8 numeric, predictive attributes and the target\\n\\n:Attribute Information:\\n    - MedInc        median income in block group\\n    - HouseAge      median house age in block group\\n    - AveRooms      average number of rooms per household\\n    - AveBedrms     average number of bedrooms per household\\n    - Population    block group population\\n    - AveOccup      average number of household members\\n    - Latitude      block group latitude\\n    - Longitude     block group longitude\\n\\n:Missing Attribute Values: None\\n\\nThis dataset was obtained from the StatLib repository.\\nhttps://www.dcc.fc.up.pt/~ltorgo/Regression/cal_housing.html\\n\\nThe target variable is the median house value for California districts,\\nexpressed in hundreds of thousands of dollars ($100,000).\\n\\nThis dataset was derived from the 1990 U.S. census, using one row per census\\nblock group. A block group is the smallest geographical unit for which the U.S.\\nCensus Bureau publishes sample data (a block group typically has a population\\nof 600 to 3,000 people).\\n\\nA household is a group of people residing within a home. Since the average\\nnumber of rooms and bedrooms in this dataset are provided per household, these\\ncolumns may take surprisingly large values for block groups with few households\\nand many empty houses, such as vacation resorts.\\n\\nIt can be downloaded/loaded using the\\n:func:`sklearn.datasets.fetch_california_housing` function.\\n\\n.. rubric:: References\\n\\n- Pace, R. Kelley and Ronald Barry, Sparse Spatial Autoregressions,\\n  Statistics and Probability Letters, 33 (1997) 291-297\\n'}"
            ]
          },
          "metadata": {},
          "execution_count": 12
        }
      ]
    },
    {
      "cell_type": "markdown",
      "source": [
        "# BASELINE CLASSIFIER"
      ],
      "metadata": {
        "id": "Rg2PTDynu8AU"
      }
    },
    {
      "cell_type": "code",
      "source": [
        "from sklearn.tree import DecisionTreeRegressor\n",
        "from sklearn.linear_model import LinearRegression\n",
        "from sklearn.svm import SVR\n",
        "from sklearn.preprocessing import StandardScaler\n",
        "from sklearn.model_selection import cross_val_score\n",
        "\n",
        "scaler = StandardScaler()\n",
        "X_train_scaled = scaler.fit_transform(X_train)\n",
        "X_test_scaled = scaler.transform(X_test)\n",
        "\n",
        "models = {\n",
        "    \"Linear Regression\": LinearRegression(),\n",
        "    \"Decision Stump\": DecisionTreeRegressor(max_depth=1, criterion=\"squared_error\"),\n",
        "    \"SVR (Linear Kernel)\": SVR(kernel=\"linear\"),\n",
        "}\n",
        "\n",
        "# Cross-validation for each model\n",
        "\n",
        "print(\"For Training Dataset\")\n",
        "for label, model in models.items():\n",
        "    scores = cross_val_score(model, X_train_scaled, y_train, cv=5, scoring=\"neg_mean_squared_error\")\n",
        "    print(\"MSE: %0.2f (+/- %0.2f) [%s]\" % (-scores.mean(), scores.std(), label))\n",
        "\n",
        "print(\"\\n**********************************************************************\")\n",
        "\n",
        "print(\"For Testing Dataset\")\n",
        "for label, model in models.items():\n",
        "    scores = cross_val_score(model, X_test_scaled, y_test, cv=5, scoring=\"neg_mean_squared_error\")\n",
        "    print(\"MSE: %0.2f (+/- %0.2f) [%s]\" % (-scores.mean(), scores.std(), label))\n"
      ],
      "metadata": {
        "colab": {
          "base_uri": "https://localhost:8080/"
        },
        "id": "wXzCZ50BqcaM",
        "outputId": "c0b838ba-e882-46d3-9f74-b5b3a5f7d417"
      },
      "execution_count": 13,
      "outputs": [
        {
          "output_type": "stream",
          "name": "stdout",
          "text": [
            "For Training Dataset\n",
            "MSE: 0.30 (+/- 0.05) [Linear Regression]\n",
            "MSE: 0.55 (+/- 0.08) [Decision Stump]\n",
            "MSE: 0.34 (+/- 0.09) [SVR (Linear Kernel)]\n",
            "\n",
            "**********************************************************************\n",
            "For Testing Dataset\n",
            "MSE: 0.25 (+/- 0.04) [Linear Regression]\n",
            "MSE: 0.50 (+/- 0.06) [Decision Stump]\n",
            "MSE: 0.27 (+/- 0.07) [SVR (Linear Kernel)]\n"
          ]
        }
      ]
    },
    {
      "cell_type": "markdown",
      "source": [
        "# BAGGING ENSEMBLE"
      ],
      "metadata": {
        "id": "q01ot5u9vNCu"
      }
    },
    {
      "cell_type": "code",
      "source": [
        "from sklearn.ensemble import BaggingRegressor\n",
        "\n",
        "print(\"For Training Dataset\")\n",
        "for label, model in models.items():\n",
        "    bagging_model = BaggingRegressor(estimator=model, n_estimators=50, random_state=42)\n",
        "    scores = cross_val_score(bagging_model, X_train_scaled, y_train, cv=5, scoring=\"neg_mean_squared_error\")\n",
        "    print(\"MSE: %0.2f (+/- %0.2f) [%s]\" % (-scores.mean(), scores.std(), label))\n",
        "\n",
        "print(\"\\n**********************************************************************\")\n",
        "\n",
        "print(\"For Testing Dataset\")\n",
        "for label, model in models.items():\n",
        "    bagging_model = BaggingRegressor(estimator=model, n_estimators=50, random_state=42)\n",
        "    scores = cross_val_score(bagging_model, X_test_scaled, y_test, cv=5, scoring=\"neg_mean_squared_error\")\n",
        "    print(\"MSE: %0.2f (+/- %0.2f) [%s]\" % (-scores.mean(), scores.std(), label))\n",
        ""
      ],
      "metadata": {
        "colab": {
          "base_uri": "https://localhost:8080/"
        },
        "id": "kZ0SjLi8s7R1",
        "outputId": "ca208420-7826-4fee-f199-aa6fbbe0f18e"
      },
      "execution_count": 14,
      "outputs": [
        {
          "output_type": "stream",
          "name": "stdout",
          "text": [
            "For Training Dataset\n",
            "MSE: 0.30 (+/- 0.05) [Linear Regression]\n",
            "MSE: 0.51 (+/- 0.08) [Decision Stump]\n",
            "MSE: 0.33 (+/- 0.08) [SVR (Linear Kernel)]\n",
            "\n",
            "**********************************************************************\n",
            "For Testing Dataset\n",
            "MSE: 0.25 (+/- 0.04) [Linear Regression]\n",
            "MSE: 0.43 (+/- 0.07) [Decision Stump]\n",
            "MSE: 0.27 (+/- 0.07) [SVR (Linear Kernel)]\n"
          ]
        }
      ]
    },
    {
      "cell_type": "markdown",
      "source": [
        "# ADABOOST ENSEMBLE"
      ],
      "metadata": {
        "id": "a2cKXT00vRiK"
      }
    },
    {
      "cell_type": "markdown",
      "source": [
        "1. By default Learning Rate"
      ],
      "metadata": {
        "id": "gyH9XIrTv1Vv"
      }
    },
    {
      "cell_type": "code",
      "source": [
        "from sklearn.ensemble import AdaBoostRegressor\n",
        "print(\"For Training Dataset\")\n",
        "\n",
        "for label, model in models.items():\n",
        "    adaboost_model = AdaBoostRegressor(estimator=model, n_estimators=200, random_state=42)\n",
        "    scores = cross_val_score(adaboost_model, X_train_scaled, y_train, cv=5, scoring=\"neg_mean_squared_error\")\n",
        "    print(\"MSE: %0.2f (+/- %0.2f) [%s]\" % (-scores.mean(), scores.std(), label))\n",
        "\n",
        "print(\"\\n**********************************************************************\")\n",
        "\n",
        "print(\"For Testing Dataset\")\n",
        "\n",
        "for label, model in models.items():\n",
        "    adaboost_model = AdaBoostRegressor(estimator=model, n_estimators=200, random_state=42)\n",
        "    scores = cross_val_score(adaboost_model, X_test_scaled, y_test, cv=5, scoring=\"neg_mean_squared_error\")\n",
        "    print(\"MSE: %0.2f (+/- %0.2f) [%s]\" % (-scores.mean(), scores.std(), label))\n",
        ""
      ],
      "metadata": {
        "colab": {
          "base_uri": "https://localhost:8080/"
        },
        "id": "RtESC63ot8k-",
        "outputId": "dcf8208c-a4d4-4dd0-9844-e7791204354d"
      },
      "execution_count": 15,
      "outputs": [
        {
          "output_type": "stream",
          "name": "stdout",
          "text": [
            "For Training Dataset\n",
            "MSE: 0.34 (+/- 0.03) [Linear Regression]\n",
            "MSE: 0.52 (+/- 0.05) [Decision Stump]\n",
            "MSE: 0.57 (+/- 0.21) [SVR (Linear Kernel)]\n",
            "\n",
            "**********************************************************************\n",
            "For Testing Dataset\n",
            "MSE: 0.29 (+/- 0.06) [Linear Regression]\n",
            "MSE: 0.39 (+/- 0.05) [Decision Stump]\n",
            "MSE: 0.53 (+/- 0.17) [SVR (Linear Kernel)]\n"
          ]
        }
      ]
    },
    {
      "cell_type": "markdown",
      "source": [
        "2. Learning Rate=0.01"
      ],
      "metadata": {
        "id": "reRqjtLGwfBx"
      }
    },
    {
      "cell_type": "code",
      "source": [
        "from sklearn.ensemble import AdaBoostRegressor\n",
        "print(\"For Training Dataset\")\n",
        "\n",
        "for label, model in models.items():\n",
        "    adaboost_model = AdaBoostRegressor(estimator=model, n_estimators=200, random_state=42, learning_rate=0.01)\n",
        "    scores = cross_val_score(adaboost_model, X_train_scaled, y_train, cv=5, scoring=\"neg_mean_squared_error\")\n",
        "    print(\"MSE: %0.2f (+/- %0.2f) [%s]\" % (-scores.mean(), scores.std(), label))\n",
        "\n",
        "print(\"\\n**********************************************************************\")\n",
        "\n",
        "print(\"For Testing Dataset\")\n",
        "\n",
        "for label, model in models.items():\n",
        "    adaboost_model = AdaBoostRegressor(estimator=model, n_estimators=200, random_state=42,learning_rate=0.01)\n",
        "    scores = cross_val_score(adaboost_model, X_test_scaled, y_test, cv=5, scoring=\"neg_mean_squared_error\")\n",
        "    print(\"MSE: %0.2f (+/- %0.2f) [%s]\" % (-scores.mean(), scores.std(), label))\n"
      ],
      "metadata": {
        "colab": {
          "base_uri": "https://localhost:8080/"
        },
        "id": "8HOsCbyFwaib",
        "outputId": "faecc23c-dc1b-4332-80d7-d2c15a03f118"
      },
      "execution_count": 16,
      "outputs": [
        {
          "output_type": "stream",
          "name": "stdout",
          "text": [
            "For Training Dataset\n",
            "MSE: 0.31 (+/- 0.04) [Linear Regression]\n",
            "MSE: 0.52 (+/- 0.08) [Decision Stump]\n",
            "MSE: 0.30 (+/- 0.06) [SVR (Linear Kernel)]\n",
            "\n",
            "**********************************************************************\n",
            "For Testing Dataset\n",
            "MSE: 0.25 (+/- 0.04) [Linear Regression]\n",
            "MSE: 0.44 (+/- 0.06) [Decision Stump]\n",
            "MSE: 0.25 (+/- 0.04) [SVR (Linear Kernel)]\n"
          ]
        }
      ]
    },
    {
      "cell_type": "markdown",
      "source": [
        "2. Learning Rate=0.001"
      ],
      "metadata": {
        "id": "C18qKEmbwmV0"
      }
    },
    {
      "cell_type": "code",
      "source": [
        "from sklearn.ensemble import AdaBoostRegressor\n",
        "print(\"For Training Dataset\")\n",
        "\n",
        "for label, model in models.items():\n",
        "    adaboost_model = AdaBoostRegressor(estimator=model, n_estimators=200, random_state=42, learning_rate=0.001)\n",
        "    scores = cross_val_score(adaboost_model, X_train_scaled, y_train, cv=5, scoring=\"neg_mean_squared_error\")\n",
        "    print(\"MSE: %0.2f (+/- %0.2f) [%s]\" % (-scores.mean(), scores.std(), label))\n",
        "\n",
        "print(\"\\n**********************************************************************\")\n",
        "\n",
        "print(\"For Testing Dataset\")\n",
        "\n",
        "for label, model in models.items():\n",
        "    adaboost_model = AdaBoostRegressor(estimator=model, n_estimators=200, random_state=42,learning_rate=0.001)\n",
        "    scores = cross_val_score(adaboost_model, X_test_scaled, y_test, cv=5, scoring=\"neg_mean_squared_error\")\n",
        "    print(\"MSE: %0.2f (+/- %0.2f) [%s]\" % (-scores.mean(), scores.std(), label))"
      ],
      "metadata": {
        "colab": {
          "base_uri": "https://localhost:8080/"
        },
        "id": "U0p6FUWEwrAd",
        "outputId": "dc07843d-48aa-421c-fadd-c67a81dec513"
      },
      "execution_count": 17,
      "outputs": [
        {
          "output_type": "stream",
          "name": "stdout",
          "text": [
            "For Training Dataset\n",
            "MSE: 0.29 (+/- 0.05) [Linear Regression]\n",
            "MSE: 0.54 (+/- 0.08) [Decision Stump]\n",
            "MSE: 0.33 (+/- 0.08) [SVR (Linear Kernel)]\n",
            "\n",
            "**********************************************************************\n",
            "For Testing Dataset\n",
            "MSE: 0.25 (+/- 0.04) [Linear Regression]\n",
            "MSE: 0.47 (+/- 0.06) [Decision Stump]\n",
            "MSE: 0.27 (+/- 0.07) [SVR (Linear Kernel)]\n"
          ]
        }
      ]
    },
    {
      "cell_type": "markdown",
      "source": [
        "3. Learning Rate=0.05"
      ],
      "metadata": {
        "id": "u1Um7zRywvv9"
      }
    },
    {
      "cell_type": "code",
      "source": [
        "from sklearn.ensemble import AdaBoostRegressor\n",
        "print(\"For Training Dataset\")\n",
        "\n",
        "for label, model in models.items():\n",
        "    adaboost_model = AdaBoostRegressor(estimator=model, n_estimators=200, random_state=42,learning_rate=0.05)\n",
        "    scores = cross_val_score(adaboost_model, X_train_scaled, y_train, cv=5, scoring=\"neg_mean_squared_error\")\n",
        "    print(\"MSE: %0.2f (+/- %0.2f) [%s]\" % (-scores.mean(), scores.std(), label))\n",
        "\n",
        "print(\"\\n**********************************************************************\")\n",
        "\n",
        "print(\"For Testing Dataset\")\n",
        "\n",
        "for label, model in models.items():\n",
        "    adaboost_model = AdaBoostRegressor(estimator=model, n_estimators=200, random_state=42,learning_rate=0.05)\n",
        "    scores = cross_val_score(adaboost_model, X_test_scaled, y_test, cv=5, scoring=\"neg_mean_squared_error\")\n",
        "    print(\"MSE: %0.2f (+/- %0.2f) [%s]\" % (-scores.mean(), scores.std(), label))"
      ],
      "metadata": {
        "colab": {
          "base_uri": "https://localhost:8080/"
        },
        "id": "D7OjrEWNw2op",
        "outputId": "3de0cdff-ee38-464b-fb27-cbf9f10c2459"
      },
      "execution_count": null,
      "outputs": [
        {
          "output_type": "stream",
          "name": "stdout",
          "text": [
            "For Training Dataset\n",
            "MSE: 0.37 (+/- 0.04) [Linear Regression]\n",
            "MSE: 0.51 (+/- 0.07) [Decision Stump]\n"
          ]
        }
      ]
    },
    {
      "cell_type": "markdown",
      "source": [
        "4. Learning Rate=0.005"
      ],
      "metadata": {
        "id": "rhfpb7uew-9h"
      }
    },
    {
      "cell_type": "code",
      "source": [
        "from sklearn.ensemble import AdaBoostRegressor\n",
        "print(\"For Training Dataset\")\n",
        "\n",
        "for label, model in models.items():\n",
        "    adaboost_model = AdaBoostRegressor(estimator=model, n_estimators=200, random_state=42,learning_rate=0.005)\n",
        "    scores = cross_val_score(adaboost_model, X_train_scaled, y_train, cv=5, scoring=\"neg_mean_squared_error\")\n",
        "    print(\"MSE: %0.2f (+/- %0.2f) [%s]\" % (-scores.mean(), scores.std(), label))\n",
        "\n",
        "print(\"\\n**********************************************************************\")\n",
        "\n",
        "print(\"For Testing Dataset\")\n",
        "\n",
        "for label, model in models.items():\n",
        "    adaboost_model = AdaBoostRegressor(estimator=model, n_estimators=200, random_state=42,learning_rate=0.005)\n",
        "    scores = cross_val_score(adaboost_model, X_test_scaled, y_test, cv=5, scoring=\"neg_mean_squared_error\")\n",
        "    print(\"MSE: %0.2f (+/- %0.2f) [%s]\" % (-scores.mean(), scores.std(), label))\n"
      ],
      "metadata": {
        "id": "0DH13eDBw__i"
      },
      "execution_count": null,
      "outputs": []
    },
    {
      "cell_type": "code",
      "source": [
        "import pandas as pd\n",
        "\n",
        "# Define the template with empty values for each field\n",
        "data = {\n",
        "    \"Classifier name\": [\"Linear Regression\", \"Decision Tree regression\", \"Support Vector Regression\"],\n",
        "    \"Baseline classifier - Training data (cv=5)\": [\"0.30 (+/- 0.05)\", \"0.55 (+/- 0.08)\", \"0.34 (+/- 0.09)\"],\n",
        "    \"Baseline classifier - Test data\": [\"0.25 (+/- 0.04)\", \"0.50 (+/- 0.06)\", \"0.27 (+/- 0.07)\"],\n",
        "    \"Bagging Ensemble - Training data (cv=5)\": [\"0.30 (+/- 0.05)\", \"0.51 (+/- 0.08)\", \"0.33 (+/- 0.08)\"],\n",
        "    \"Bagging Ensemble - Test data\": [\"0.25 (+/- 0.04)\", \"0.43 (+/- 0.07)\", \"0.27 (+/- 0.07)\"],\n",
        "    \"Adaboost Ensemble - Training data (cv=5)\": [\"0.31 (+/- 0.04)\", \"0.52 (+/- 0.08)\", \"0.30 (+/- 0.06)\"],\n",
        "    \"Adaboost Ensemble - Test data\": [\"0.25 (+/- 0.04)\", \"0.44 (+/- 0.06)\", \"0.25 (+/- 0.04)\"]\n",
        "}\n",
        "\n",
        "# Create DataFrame from the template\n",
        "results_df = pd.DataFrame(data)\n",
        "\n",
        "# Display the empty template\n",
        "results_df"
      ],
      "metadata": {
        "id": "TPnoNTP3yt9G"
      },
      "execution_count": null,
      "outputs": []
    }
  ]
}